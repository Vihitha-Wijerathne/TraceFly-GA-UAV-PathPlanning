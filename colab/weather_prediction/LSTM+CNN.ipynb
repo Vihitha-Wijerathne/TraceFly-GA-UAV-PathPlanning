{
  "nbformat": 4,
  "nbformat_minor": 0,
  "metadata": {
    "colab": {
      "provenance": []
    },
    "kernelspec": {
      "name": "python3",
      "display_name": "Python 3"
    },
    "language_info": {
      "name": "python"
    }
  },
  "cells": [
    {
      "cell_type": "code",
      "execution_count": 3,
      "metadata": {
        "id": "5v22STiWWY10"
      },
      "outputs": [],
      "source": [
        "import pandas as pd\n",
        "import numpy as np\n",
        "from sklearn.preprocessing import MinMaxScaler"
      ]
    },
    {
      "cell_type": "code",
      "source": [
        "# Load datasets\n",
        "simulated_data = pd.read_csv('Simulated_Weather_Data.csv')\n",
        "training_data = pd.read_csv('Training_Data.csv')\n",
        "testing_data = pd.read_csv('Testing_Data.csv')\n",
        "\n",
        "# Inspect column names\n",
        "print(\"Simulated Data Columns:\", simulated_data.columns)\n",
        "print(\"Training Data Columns:\", training_data.columns)\n",
        "print(\"Testing Data Columns:\", testing_data.columns)\n",
        "\n",
        "# Adjust column names based on inspection\n",
        "# Replace 'Temperature', 'Wind', 'Humidity' with actual names in your datasets\n",
        "common_features_simulated = ['Temperature', 'WindSpeed', 'Humidity']  # Adjust if necessary\n",
        "common_features_training = ['temperature', 'wv (m/s)', 'rh (%)', 'precipitation']  # Adjust if necessary\n",
        "common_features_testing = ['temperature', 'wv (m/s)', 'rh (%)', 'precipitation']  # Adjust if necessary\n",
        "\n",
        "# Select relevant columns\n",
        "simulated_data = simulated_data[['Time', 'Zone'] + common_features_simulated]\n",
        "training_data = training_data[common_features_training].rename(\n",
        "    columns={'temperature': 'Temperature', 'wv (m/s)': 'WindSpeed', 'rh (%)': 'Humidity', 'precipitation': 'Precipitation'}\n",
        ")\n",
        "testing_data = testing_data[common_features_testing].rename(\n",
        "    columns={'temperature': 'Temperature', 'wv (m/s)': 'WindSpeed', 'rh (%)': 'Humidity', 'precipitation': 'Precipitation'}\n",
        ")\n",
        "\n",
        "# Add 'Zone' to training and testing datasets for consistency\n",
        "training_data['Zone'] = 1\n",
        "testing_data['Zone'] = 1\n",
        "\n",
        "# Combine datasets\n",
        "combined_data = pd.concat([simulated_data, training_data, testing_data], ignore_index=True)\n",
        "\n",
        "# Handle missing values\n",
        "combined_data.fillna(combined_data.mean(), inplace=True)\n",
        "\n",
        "# Normalize the data\n",
        "scaler = MinMaxScaler()\n",
        "common_features = ['Temperature', 'WindSpeed', 'Humidity']\n",
        "combined_data[common_features] = scaler.fit_transform(combined_data[common_features])\n",
        "\n",
        "# Display the processed dataset\n",
        "print(combined_data.head())"
      ],
      "metadata": {
        "colab": {
          "base_uri": "https://localhost:8080/"
        },
        "id": "O9tnCmamZgjf",
        "outputId": "abf473fe-d5e1-4467-e925-25066fae65c0"
      },
      "execution_count": 4,
      "outputs": [
        {
          "output_type": "stream",
          "name": "stdout",
          "text": [
            "Simulated Data Columns: Index(['Time', 'Zone', 'Temperature', 'WindSpeed', 'Humidity'], dtype='object')\n",
            "Training Data Columns: Index(['Unnamed: 0', 'date', 'temperature_max', 'temperature_min', 'wind',\n",
            "       'weather', 'p (mbar)', 'temperature_x', 'Tpot (K)', 'Tdew (degC)',\n",
            "       'rh (%)', 'VPmax (mbar)', 'VPact (mbar)', 'VPdef (mbar)', 'sh (g/kg)',\n",
            "       'H2OC (mmol/mol)', 'rho (g/m**3)', 'wv (m/s)', 'max. wv (m/s)',\n",
            "       'wd (deg)', 'precipitation_y', 'raining (s)', 'SWDR (W/m�)',\n",
            "       'PAR (�mol/m�/s)', 'max. PAR (�mol/m�/s)', 'Tlog (degC)', 'OT',\n",
            "       'Summary', 'precipitation_type', 'temperature_y',\n",
            "       'Apparent Temperature (C)', 'Humidity', 'Wind Speed (km/h)',\n",
            "       'Wind Bearing (degrees)', 'Visibility (km)', 'Loud Cover',\n",
            "       'Pressure (millibars)', 'temperature', 'dwpt', 'rhum', 'precipitation',\n",
            "       'wdir', 'wspd', 'pres'],\n",
            "      dtype='object')\n",
            "Testing Data Columns: Index(['Unnamed: 0', 'date', 'temperature_max', 'temperature_min', 'wind',\n",
            "       'weather', 'p (mbar)', 'temperature_x', 'Tpot (K)', 'Tdew (degC)',\n",
            "       'rh (%)', 'VPmax (mbar)', 'VPact (mbar)', 'VPdef (mbar)', 'sh (g/kg)',\n",
            "       'H2OC (mmol/mol)', 'rho (g/m**3)', 'wv (m/s)', 'max. wv (m/s)',\n",
            "       'wd (deg)', 'precipitation_y', 'raining (s)', 'SWDR (W/m�)',\n",
            "       'PAR (�mol/m�/s)', 'max. PAR (�mol/m�/s)', 'Tlog (degC)', 'OT',\n",
            "       'Summary', 'precipitation_type', 'temperature_y',\n",
            "       'Apparent Temperature (C)', 'Humidity', 'Wind Speed (km/h)',\n",
            "       'Wind Bearing (degrees)', 'Visibility (km)', 'Loud Cover',\n",
            "       'Pressure (millibars)', 'temperature', 'dwpt', 'rhum', 'precipitation',\n",
            "       'wdir', 'wspd', 'pres'],\n",
            "      dtype='object')\n",
            "   Time  Zone  Temperature  WindSpeed  Humidity  Precipitation\n",
            "0   1.0     1     0.678835   0.998335  0.566595       0.052855\n",
            "1   2.0     1     0.558497   0.998111  0.694640       0.052855\n",
            "2   3.0     1     0.427445   0.997686  0.791188       0.052855\n",
            "3   4.0     1     0.440273   0.998077  0.789681       0.052855\n",
            "4   5.0     1     0.599748   0.997585  0.727042       0.052855\n"
          ]
        }
      ]
    }
  ]
}